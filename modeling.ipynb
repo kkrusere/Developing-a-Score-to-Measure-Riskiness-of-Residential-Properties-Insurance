{
  "cells": [
    {
      "cell_type": "markdown",
      "metadata": {
        "id": "view-in-github",
        "colab_type": "text"
      },
      "source": [
        "<a href=\"https://colab.research.google.com/github/kkrusere/Developing-a-Score-to-Measure-Riskiness-of-Residential-Properties-Insurance/blob/main/modeling.ipynb\" target=\"_parent\"><img src=\"https://colab.research.google.com/assets/colab-badge.svg\" alt=\"Open In Colab\"/></a>"
      ]
    },
    {
      "cell_type": "markdown",
      "source": [
        "## <center> **Developing a Score to Measure Riskiness of Residential Properties Insurance** \n",
        "\n",
        "<center><em>Developing a Score to Measure Riskiness of Residential buildings, Homes, Apartments and Condos as part of an insurance policy underwriting. Insurance underwriting is how an insurance company evaluates its risk. In this project, we identify and explore multiple data sources to collect variables that could be used to develop a score that measures the riskiness of residential buildings to aid the insurance underwriting process.</em></center>\n",
        "\n",
        "\n",
        "<center><img src=\"https://github.com/kkrusere/Developing-a-Score-to-Measure-Riskiness-of-Residential-Properties-Insurance/blob/main/assets/real-estate-risk.jpg?raw=1\" width=600/></center>\n",
        "\n",
        "***Project Contributors:*** Kuzi Rusere and Umair Shaikh<br>\n",
        "**MVP streamlit App URL:** https://kkrusere-developing-a-score-to-measure-prototype-mvp-app-acxav4.streamlitapp.com\n",
        "\n",
        "### **Modeling, Evaluation and Analysis of Clusters** "
      ],
      "metadata": {
        "id": "0i20voH2dr6U"
      }
    },
    {
      "cell_type": "code",
      "execution_count": 1,
      "metadata": {
        "id": "Em4qpRFbdqsE"
      },
      "outputs": [],
      "source": [
        "import pandas as pd\n",
        "import numpy as np\n",
        "import matplotlib.pyplot as plt\n",
        "\n",
        "%matplotlib inline"
      ]
    },
    {
      "cell_type": "markdown",
      "source": [
        "We read-in the data from our database\n"
      ],
      "metadata": {
        "id": "SCKif9YV3NSu"
      }
    },
    {
      "cell_type": "code",
      "source": [
        "#we install the Python SQL Toolkit and Object Relational Mapper and the python MySQL connector\n",
        "!pip install SQLAlchemy\n",
        "!pip install mysql-connector-python\n",
        "!pip install PyMySQL"
      ],
      "metadata": {
        "id": "_jmgDWWr3Msa"
      },
      "execution_count": null,
      "outputs": []
    },
    {
      "cell_type": "code",
      "source": [],
      "metadata": {
        "id": "zJHf9c923cPa"
      },
      "execution_count": null,
      "outputs": []
    },
    {
      "cell_type": "code",
      "source": [
        "import mysql.connector as connection\n",
        "from sqlalchemy import create_engine\n",
        "import config #this holds our credentials for the database \n",
        "\n",
        "host= config.host\n",
        "user= config.user\n",
        "db_password = config.password\n",
        "port = config.port\n",
        "\n",
        "#create the connection to the AWS MySQL database\n",
        "conn = connection.connect(\n",
        "  host=host,\n",
        "  user=user,\n",
        "  password=db_password,\n",
        "  port = port,\n",
        ")\n",
        "mycursor = conn.cursor()"
      ],
      "metadata": {
        "id": "X-Pk_mV03cMj"
      },
      "execution_count": null,
      "outputs": []
    },
    {
      "cell_type": "code",
      "source": [],
      "metadata": {
        "id": "47klyM-U3cJc"
      },
      "execution_count": null,
      "outputs": []
    },
    {
      "cell_type": "code",
      "source": [],
      "metadata": {
        "id": "vdou2Zz53cGU"
      },
      "execution_count": null,
      "outputs": []
    },
    {
      "cell_type": "code",
      "source": [
        "from sklearn.cluster import KMeans\n",
        "from sklearn.metrics import silhouette_score"
      ],
      "metadata": {
        "id": "gt7Xpu53l5Dx"
      },
      "execution_count": 2,
      "outputs": []
    },
    {
      "cell_type": "code",
      "source": [],
      "metadata": {
        "id": "RpDcmx5y0Dxu"
      },
      "execution_count": null,
      "outputs": []
    },
    {
      "cell_type": "markdown",
      "source": [
        "We start with creating the crime score. Here, we are trying to cluster the crime data\n",
        "\n",
        "Choosing the Appropriate Number of Clusters\n",
        "\n",
        "We are going to look at two methods that are commonly used to evaluate the appropriate number of clusters:\n",
        "\n",
        "1. The elbow method\n",
        "2. The silhouette coefficient"
      ],
      "metadata": {
        "id": "q7LH7_3e0EcJ"
      }
    },
    {
      "cell_type": "code",
      "source": [
        "kmeans_param = {\n",
        "    \"init\": \"random\",\n",
        "    \"n_init\": 10,\n",
        "    \"max_iter\": 300,\n",
        "    \"random_state\": 42,\n",
        "}\n",
        "# A list holds the SSE values for each k\n",
        "sse = []\n",
        "for k in range(1, 11):\n",
        "    kmeans = KMeans(n_clusters=k, **kmeans_param)\n",
        "    kmeans.fit(data)\n",
        "    sse.append(kmeans.inertia_)"
      ],
      "metadata": {
        "id": "jbLnBuNwl-sy"
      },
      "execution_count": null,
      "outputs": []
    },
    {
      "cell_type": "code",
      "source": [
        "plt.style.use(\"fivethirtyeight\")\n",
        "plt.plot(range(1, 11), sse)\n",
        "plt.xticks(range(1, 11))\n",
        "plt.xlabel(\"Number of Clusters\")\n",
        "plt.ylabel(\"SSE\")\n",
        "plt.show()"
      ],
      "metadata": {
        "id": "s5b6inI21yik"
      },
      "execution_count": null,
      "outputs": []
    },
    {
      "cell_type": "code",
      "source": [],
      "metadata": {
        "id": "IV-1yi8t2IRs"
      },
      "execution_count": null,
      "outputs": []
    },
    {
      "cell_type": "code",
      "source": [
        "# A list holds the silhouette coefficients for each k\n",
        "silhouette_coefficients = []\n",
        "\n",
        "# Notice you start at 2 clusters for silhouette coefficient\n",
        "for k in range(2, 11):\n",
        "    kmeans = KMeans(n_clusters=k, **kmeans_param)\n",
        "    kmeans.fit(data)\n",
        "    score = silhouette_score(data, kmeans.labels_)\n",
        "    silhouette_coefficients.append(score)"
      ],
      "metadata": {
        "id": "k0O0B4lE2IOt"
      },
      "execution_count": null,
      "outputs": []
    },
    {
      "cell_type": "code",
      "source": [
        "plt.style.use(\"fivethirtyeight\")\n",
        "plt.plot(range(2, 11), silhouette_coefficients)\n",
        "plt.xticks(range(2, 11))\n",
        "plt.xlabel(\"Number of Clusters\")\n",
        "plt.ylabel(\"Silhouette Coefficient\")\n",
        "plt.show()"
      ],
      "metadata": {
        "id": "ijFnNOXe2ILM"
      },
      "execution_count": null,
      "outputs": []
    }
  ],
  "metadata": {
    "kernelspec": {
      "display_name": "Python 3.9.5 ('capstone')",
      "language": "python",
      "name": "python3"
    },
    "language_info": {
      "name": "python",
      "version": "3.9.5"
    },
    "orig_nbformat": 4,
    "vscode": {
      "interpreter": {
        "hash": "6c67f8adbebdea49f93c63d2a2dcd5cb4fed3a722249876be11f90d0fd0a91fc"
      }
    },
    "colab": {
      "provenance": [],
      "include_colab_link": true
    }
  },
  "nbformat": 4,
  "nbformat_minor": 0
}