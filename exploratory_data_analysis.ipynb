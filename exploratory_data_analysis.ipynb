{
  "cells": [
    {
      "cell_type": "markdown",
      "metadata": {
        "id": "view-in-github",
        "colab_type": "text"
      },
      "source": [
        "<a href=\"https://colab.research.google.com/github/kkrusere/Developing-a-Score-to-Measure-Riskiness-of-Residential-Properties-Insurance/blob/main/exploratory_data_analysis.ipynb\" target=\"_parent\"><img src=\"https://colab.research.google.com/assets/colab-badge.svg\" alt=\"Open In Colab\"/></a>"
      ]
    },
    {
      "cell_type": "markdown",
      "source": [
        "## <center> **Developing a Score to Measure Riskiness of Residential Properties Insurance** \n",
        "\n",
        "<center><em>Developing a Score to Measure Riskiness of Residential buildings, Homes, Apartments and Condos as part of an insurance policy underwriting. Insurance underwriting is how an insurance company evaluates its risk. In this project, we identify and explore multiple data sources to collect variables that could be used to develop a score that measures the riskiness of residential buildings to aid the insurance underwriting process.</em></center>\n",
        "\n",
        "\n",
        "\n",
        "<center><img src=\"https://github.com/kkrusere/Developing-a-Score-to-Measure-Riskiness-of-Residential-Properties-Insurance/blob/main/assets/real-estate-risk.jpg?raw=1\" width=600/></center>\n",
        "\n",
        "***Project Contributors:*** Kuzi Rusere and Umair Shaikh<br>\n",
        "**MVP streamlit App URL:** N/A\n",
        "\n",
        "### **Exploratory Data Analysis** "
      ],
      "metadata": {
        "id": "cfgfD097dTNZ"
      }
    },
    {
      "cell_type": "code",
      "execution_count": null,
      "metadata": {
        "id": "a6ZwkMJTdShP"
      },
      "outputs": [],
      "source": [
        "import pandas as pd\n",
        "import numpy as np\n",
        "import matplotlib.pyplot as plt\n"
      ]
    },
    {
      "cell_type": "code",
      "source": [
        "#we install the Python SQL Toolkit and Object Relational Mapper and the python MySQL connector\n",
        "!pip install SQLAlchemy\n",
        "!pip install mysql-connector-python"
      ],
      "metadata": {
        "id": "epF-BFA6-A3Y"
      },
      "execution_count": null,
      "outputs": []
    },
    {
      "cell_type": "code",
      "source": [
        "#change directory so that we can access the config.py file \n",
        "%cd /content/drive/MyDrive/capstone"
      ],
      "metadata": {
        "id": "EMf7JB6d7_Nt"
      },
      "execution_count": null,
      "outputs": []
    },
    {
      "cell_type": "markdown",
      "source": [
        "Reading in the data from AWS MySQL RDS"
      ],
      "metadata": {
        "id": "s9M8WJs_6iog"
      }
    },
    {
      "cell_type": "code",
      "source": [
        "#we read the data from the AWS RDS\n",
        "from sqlalchemy import create_engine\n",
        "import mysql.connector as connection\n",
        "import config\n",
        "\n",
        "\n",
        "host= config.host\n",
        "user= config.user\n",
        "db_password = config.password\n",
        "port = config.port\n",
        "database = config.database\n",
        "\n",
        "\n",
        "engine = create_engine(f\"mysql+pymysql://{user}:{db_password}@{host}/{database}\")\n",
        "\n",
        "try:\n",
        "    query = f\"SELECT * FROM NYC311Open_Data\"\n",
        "    dataframe = pd.read_sql(query,engine)\n",
        "\n",
        "except Exception as e:\n",
        "    print(str(e))"
      ],
      "metadata": {
        "id": "ak3-xeah6sN1"
      },
      "execution_count": null,
      "outputs": []
    }
  ],
  "metadata": {
    "kernelspec": {
      "display_name": "Python 3.9.5 ('capstone')",
      "language": "python",
      "name": "python3"
    },
    "language_info": {
      "name": "python",
      "version": "3.9.5"
    },
    "orig_nbformat": 4,
    "vscode": {
      "interpreter": {
        "hash": "6c67f8adbebdea49f93c63d2a2dcd5cb4fed3a722249876be11f90d0fd0a91fc"
      }
    },
    "colab": {
      "provenance": [],
      "include_colab_link": true
    }
  },
  "nbformat": 4,
  "nbformat_minor": 0
}